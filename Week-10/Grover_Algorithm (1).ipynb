{
 "cells": [
  {
   "cell_type": "code",
   "execution_count": 1,
   "id": "b085df31-d296-4861-9b65-fe15aa58b3cd",
   "metadata": {},
   "outputs": [
    {
     "name": "stdout",
     "output_type": "stream",
     "text": [
      "Resulting Matrix:\n",
      "[[-0.5 -0.5]\n",
      " [-0.5 -0.5]]\n"
     ]
    }
   ],
   "source": [
    "import numpy as np\n",
    "\n",
    "# Initialize the matrix\n",
    "result_matrix = np.array([[-1/2, -1/2], [-1/2, -1/2]])\n",
    "\n",
    "print(\"Resulting Matrix:\")\n",
    "print(result_matrix)\n"
   ]
  },
  {
   "cell_type": "code",
   "execution_count": 2,
   "id": "0ffb0b5d-3d10-4999-8fc7-3d77ad4979f2",
   "metadata": {},
   "outputs": [
    {
     "name": "stdout",
     "output_type": "stream",
     "text": [
      "Oracle matrix Uf:\n",
      "[[1 0 0 0 0 0 0 0]\n",
      " [0 1 0 0 0 0 0 0]\n",
      " [0 0 1 0 0 0 0 0]\n",
      " [0 0 0 1 0 0 0 0]\n",
      " [0 0 0 0 0 1 0 0]\n",
      " [0 0 0 0 1 0 0 0]\n",
      " [0 0 0 0 0 0 1 0]\n",
      " [0 0 0 0 0 0 0 1]]\n"
     ]
    }
   ],
   "source": [
    "import numpy as np\n",
    "\n",
    "# Initialize the matrix Uf\n",
    "Uf = np.array([\n",
    "    [1, 0, 0, 0, 0, 0, 0, 0],\n",
    "    [0, 1, 0, 0, 0, 0, 0, 0],\n",
    "    [0, 0, 1, 0, 0, 0, 0, 0],\n",
    "    [0, 0, 0, 1, 0, 0, 0, 0],\n",
    "    [0, 0, 0, 0, 0, 1, 0, 0],\n",
    "    [0, 0, 0, 0, 1, 0, 0, 0],\n",
    "    [0, 0, 0, 0, 0, 0, 1, 0],\n",
    "    [0, 0, 0, 0, 0, 0, 0, 1]\n",
    "])\n",
    "\n",
    "print(\"Oracle matrix Uf:\")\n",
    "print(Uf)\n"
   ]
  },
  {
   "cell_type": "code",
   "execution_count": 2,
   "id": "d7558c4c-d3cc-4989-a75c-77673572a26e",
   "metadata": {},
   "outputs": [
    {
     "name": "stdout",
     "output_type": "stream",
     "text": [
      "Grover's Algorithm Circuit:\n",
      "              ┌               ┐                           ┌               ┐                           ┌               ┐\n",
      "              │1 0 0 0 0 0 0 0│                           │1 0 0 0 0 0 0 0│                           │1 0 0 0 0 0 0 0│\n",
      "              │0 1 0 0 0 0 0 0│   ┌                   ┐   │0 1 0 0 0 0 0 0│   ┌                   ┐   │0 1 0 0 0 0 0 0│   ┌                   ┐\n",
      "              │0 0 1 0 0 0 0 0│   │-0.5  0.5  0.5  0.5│   │0 0 1 0 0 0 0 0│   │-0.5  0.5  0.5  0.5│   │0 0 1 0 0 0 0 0│   │-0.5  0.5  0.5  0.5│\n",
      "0: ───H───────│0 0 0 1 0 0 0 0│───│ 0.5 -0.5  0.5  0.5│───│0 0 0 1 0 0 0 0│───│ 0.5 -0.5  0.5  0.5│───│0 0 0 1 0 0 0 0│───│ 0.5 -0.5  0.5  0.5│───M('result')───\n",
      "              │0 0 0 0 0 1 0 0│   │ 0.5  0.5 -0.5  0.5│   │0 0 0 0 0 1 0 0│   │ 0.5  0.5 -0.5  0.5│   │0 0 0 0 0 1 0 0│   │ 0.5  0.5 -0.5  0.5│   │\n",
      "              │0 0 0 0 1 0 0 0│   │ 0.5  0.5  0.5 -0.5│   │0 0 0 0 1 0 0 0│   │ 0.5  0.5  0.5 -0.5│   │0 0 0 0 1 0 0 0│   │ 0.5  0.5  0.5 -0.5│   │\n",
      "              │0 0 0 0 0 0 1 0│   └                   ┘   │0 0 0 0 0 0 1 0│   └                   ┘   │0 0 0 0 0 0 1 0│   └                   ┘   │\n",
      "              │0 0 0 0 0 0 0 1│   │                       │0 0 0 0 0 0 0 1│   │                       │0 0 0 0 0 0 0 1│   │                       │\n",
      "              └               ┘   │                       └               ┘   │                       └               ┘   │                       │\n",
      "              │                   │                       │                   │                       │                   │                       │\n",
      "1: ───H───────#2──────────────────#2──────────────────────#2──────────────────#2──────────────────────#2──────────────────#2──────────────────────M─────────────\n",
      "              │                                           │                                           │\n",
      "2: ───X───H───#3──────────────────H───────────────────────#3──────────────────H───────────────────────#3────────────────────────────────────────────────────────\n",
      "\n",
      "Measurement Result:\n",
      "[1 0]\n",
      "[0.        +0.j 0.        +0.j 0.        +0.j 0.        +0.j\n",
      " 0.70710677+0.j 0.70710677+0.j 0.        +0.j 0.        +0.j]\n"
     ]
    }
   ],
   "source": [
    "import numpy as np\n",
    "import cirq\n",
    "\n",
    "# Define the oracle matrix Uf\n",
    "Uf = np.array([\n",
    "    [1, 0, 0, 0, 0, 0, 0, 0],\n",
    "    [0, 1, 0, 0, 0, 0, 0, 0],\n",
    "    [0, 0, 1, 0, 0, 0, 0, 0],\n",
    "    [0, 0, 0, 1, 0, 0, 0, 0],\n",
    "    [0, 0, 0, 0, 0, 1, 0, 0],\n",
    "    [0, 0, 0, 0, 1, 0, 0, 0],\n",
    "    [0, 0, 0, 0, 0, 0, 1, 0],\n",
    "    [0, 0, 0, 0, 0, 0, 0, 1]\n",
    "])\n",
    "\n",
    "# Define the matrix -I + 2A\n",
    "result_matrix = np.array([\n",
    "    [-1/2, 1/2, 1/2, 1/2],\n",
    "    [1/2, -1/2, 1/2, 1/2],\n",
    "    [1/2, 1/2, -1/2, 1/2],\n",
    "    [1/2, 1/2, 1/2, -1/2]\n",
    "])\n",
    "\n",
    "# Define the number of qubits\n",
    "n = 3  # Assuming 3 qubits for demonstration purposes\n",
    "\n",
    "# Initialize the circuit\n",
    "circuit = cirq.Circuit()\n",
    "\n",
    "\n",
    "# Step 1: Apply H⊗n\n",
    "circuit.append(cirq.H.on_each(*cirq.LineQubit.range(n-1)))\n",
    "circuit.append(cirq.X(cirq.LineQubit(n - 1)))\n",
    "# Step 2: Repeat √2^n times\n",
    "sqrt_n = int(np.sqrt(2 ** n))+1\n",
    "for _ in range(sqrt_n):\n",
    "    # Step 3a: Apply the phase inversion operation: Uf (I ⊗ H)\n",
    " \n",
    "    circuit.append(cirq.H(cirq.LineQubit(n - 1)))\n",
    "    circuit.append(cirq.MatrixGate(Uf).on(*cirq.LineQubit.range(n)))\n",
    "   \n",
    "    \n",
    "    # Step 3b: Apply the inversion about the mean operation: -I + 2A\n",
    "    circuit.append(cirq.MatrixGate(result_matrix).on(*cirq.LineQubit.range(n-1)))\n",
    "\n",
    "# Step 4: Measure the qubits\n",
    "circuit.append(cirq.measure(*cirq.LineQubit.range(2), key='result'))\n",
    "\n",
    "# Print the circuit\n",
    "print(\"Grover's Algorithm Circuit:\")\n",
    "print(circuit)\n",
    "\n",
    "# Simulate the circuit\n",
    "simulator = cirq.Simulator()\n",
    "result = simulator.run(circuit, repetitions=3)\n",
    "\n",
    "# Extract measurement results from the result object\n",
    "measurement_result = result.measurements['result'][0]\n",
    "\n",
    "# Print the measurement result\n",
    "print(\"\\nMeasurement Result:\")\n",
    "print(measurement_result)\n",
    "\n",
    "final_state_vector = simulator.simulate(circuit).final_state_vector\n",
    "print(final_state_vector)\n"
   ]
  },
  {
   "cell_type": "code",
   "execution_count": null,
   "id": "698b3553-adee-47c3-a63f-46be6a7d36f7",
   "metadata": {},
   "outputs": [],
   "source": []
  }
 ],
 "metadata": {
  "kernelspec": {
   "display_name": "Python 3 (ipykernel)",
   "language": "python",
   "name": "python3"
  },
  "language_info": {
   "codemirror_mode": {
    "name": "ipython",
    "version": 3
   },
   "file_extension": ".py",
   "mimetype": "text/x-python",
   "name": "python",
   "nbconvert_exporter": "python",
   "pygments_lexer": "ipython3",
   "version": "3.12.3"
  }
 },
 "nbformat": 4,
 "nbformat_minor": 5
}
