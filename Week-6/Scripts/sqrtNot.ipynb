{
 "cells": [
  {
   "cell_type": "code",
   "execution_count": 1,
   "id": "dd7fdbff-97bc-43d6-afd1-debb030b75c9",
   "metadata": {},
   "outputs": [
    {
     "name": "stdout",
     "output_type": "stream",
     "text": [
      "{'1': 100}\n",
      "        ┌────┐┌────┐ ░ ┌─┐\n",
      "     q: ┤ √X ├┤ √X ├─░─┤M├\n",
      "        └────┘└────┘ ░ └╥┘\n",
      "meas: 1/════════════════╩═\n",
      "                        0 \n"
     ]
    },
    {
     "data": {
      "image/png": "[encoded data removed]",
      "text/plain": [
       "<Figure size 640x480 with 1 Axes>"
      ]
     },
     "execution_count": 1,
     "metadata": {},
     "output_type": "execute_result"
    }
   ],
   "source": [
    "from qiskit import QuantumCircuit\n",
    "from qiskit.quantum_info import Statevector\n",
    "from qiskit.visualization import plot_bloch_multivector\n",
    "from qiskit_aer import AerSimulator\n",
    "from qiskit.visualization import plot_histogram, plot_state_city\n",
    "\n",
    "# Create a quantum circuit with one qubit\n",
    "qc = QuantumCircuit(1)\n",
    "\n",
    "# Apply the Hadamard gate to put the qubit into superposition\n",
    "#qc.h(0)\n",
    "\n",
    "# Apply the Pauli-X gate (NOT gate) to flip the state\n",
    "qc.sx(0)\n",
    "qc.sx(0)\n",
    "\n",
    "\n",
    "qc.measure_all()\n",
    "\n",
    "simulator = AerSimulator()\n",
    "# Simulate the circuit\n",
    "job = simulator.run(qc, shots=100)\n",
    "\n",
    "# Get the result\n",
    "result = job.result()\n",
    "\n",
    "# Print the counts\n",
    "print(result.get_counts(qc))\n",
    "\n",
    "# Visualize the circuit\n",
    "print(qc)\n",
    "\n",
    "# Visualize the measurement outcomes\n",
    "plot_histogram(result.get_counts(qc))"
   ]
  },
  {
   "cell_type": "code",
   "execution_count": null,
   "id": "a61915ee-daef-4bfd-bdff-79ce1c22dec1",
   "metadata": {},
   "outputs": [],
   "source": []
  }
 ],
 "metadata": {
  "kernelspec": {
   "display_name": "MSE802",
   "language": "python",
   "name": "python3"
  },
  "language_info": {
   "codemirror_mode": {
    "name": "ipython",
    "version": 3
   },
   "file_extension": ".py",
   "mimetype": "text/x-python",
   "name": "python",
   "nbconvert_exporter": "python",
   "pygments_lexer": "ipython3",
   "version": "3.11.11"
  }
 },
 "nbformat": 4,
 "nbformat_minor": 5
}
