{
 "cells": [
  {
   "cell_type": "code",
   "execution_count": 2,
   "id": "90f8e741-963e-4ae6-93be-20c00370382f",
   "metadata": {},
   "outputs": [
    {
     "data": {
      "text/plain": [
       "(array([ 8.,  5.,  8., -1.]),\n",
       " array([20.+0.j,  0.-6.j, 12.+0.j,  0.+6.j]),\n",
       " array([ 8.,  5.,  8., -1.]))"
      ]
     },
     "execution_count": 2,
     "metadata": {},
     "output_type": "execute_result"
    }
   ],
   "source": [
    "import numpy as np\n",
    "\n",
    "# Define the time-domain signal x[n] with N = 4 samples\n",
    "N = 4\n",
    "n = np.arange(N)\n",
    "\n",
    "# Given signal: x[n] = 5 + 3cos(2π * (1/N) * n-90) + 3cos(2π * (2/N) * n)\n",
    "x = 5 + 3 * np.cos(2 * np.pi * 1 * n / N-(np.pi/2)) + 3 * np.cos(4 * np.pi * n / N)\n",
    "\n",
    "\n",
    "# Compute DFT using numpy's FFT function\n",
    "X = np.fft.fft(x)\n",
    "\n",
    "# Compute IDFT using numpy's IFFT function\n",
    "x_reconstructed = np.fft.ifft(X).real  # Taking real part to remove numerical errors\n",
    "\n",
    "# Display results\n",
    "x, X, x_reconstructed\n"
   ]
  },
  {
   "cell_type": "code",
   "execution_count": null,
   "id": "1fa509e9-717e-4254-be06-14a5adcfd24d",
   "metadata": {},
   "outputs": [],
   "source": []
  }
 ],
 "metadata": {
  "kernelspec": {
   "display_name": "Python 3 (ipykernel)",
   "language": "python",
   "name": "python3"
  },
  "language_info": {
   "codemirror_mode": {
    "name": "ipython",
    "version": 3
   },
   "file_extension": ".py",
   "mimetype": "text/x-python",
   "name": "python",
   "nbconvert_exporter": "python",
   "pygments_lexer": "ipython3",
   "version": "3.12.9"
  }
 },
 "nbformat": 4,
 "nbformat_minor": 5
}
