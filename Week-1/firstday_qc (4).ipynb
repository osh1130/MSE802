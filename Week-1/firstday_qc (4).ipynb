{
 "cells": [
  {
   "cell_type": "code",
   "execution_count": 1,
   "id": "045ef915-c256-42ec-ae1f-3c64765c6abb",
   "metadata": {},
   "outputs": [
    {
     "name": "stdout",
     "output_type": "stream",
     "text": [
      "{'01': 232, '11': 255, '10': 260, '00': 277}\n",
      "     ┌───┐┌─┐   \n",
      "q_0: ┤ H ├┤M├───\n",
      "     ├───┤└╥┘┌─┐\n",
      "q_1: ┤ H ├─╫─┤M├\n",
      "     └───┘ ║ └╥┘\n",
      "c: 2/══════╩══╩═\n",
      "           0  1 \n"
     ]
    },
    {
     "name": "stderr",
     "output_type": "stream",
     "text": [
      "/var/folders/pt/708tyz8x7bd2xf69_dw3cwn40000gn/T/ipykernel_69052/3574761162.py:30: UserWarning: FigureCanvasAgg is non-interactive, and thus cannot be shown\n",
      "  qc.draw(output='mpl').show()\n"
     ]
    },
    {
     "data": {
      "image/png": "[encoded data removed]",
      "text/plain": [
       "<Figure size 640x480 with 1 Axes>"
      ]
     },
     "execution_count": 1,
     "metadata": {},
     "output_type": "execute_result"
    }
   ],
   "source": [
    "import qiskit as qk\n",
    "from qiskit_aer import AerSimulator\n",
    "from qiskit.visualization import plot_histogram\n",
    "# Create a quantum circuit with two qubits and two classical bits\n",
    "qc = qk.QuantumCircuit(2, 2)\n",
    "\n",
    "# Apply Hadamard gate to both qubits\n",
    "qc.h(0)\n",
    "qc.h(1)\n",
    "\n",
    "# Measure both qubits\n",
    "qc.measure(0, 0)\n",
    "qc.measure(1, 1)\n",
    "\n",
    "# Choose the qasm_simulator backend\n",
    "simulator = AerSimulator(method='statevector')\n",
    "\n",
    "\n",
    "# Simulate the circuit\n",
    "job = simulator.run(qc, shots=1024)\n",
    "\n",
    "# Get the result\n",
    "result = job.result()\n",
    "\n",
    "# Print the counts\n",
    "print(result.get_counts(qc))\n",
    "\n",
    "# Visualize the circuit\n",
    "print(qc)\n",
    "qc.draw(output='mpl').show()\n",
    "\n",
    "# Visualize the measurement outcomes\n",
    "plot_histogram(result.get_counts(qc))"
   ]
  },
  {
   "cell_type": "code",
   "execution_count": null,
   "id": "11630b87-05ed-40ff-93ed-aab4ad4c3a8c",
   "metadata": {},
   "outputs": [
    {
     "name": "stdout",
     "output_type": "stream",
     "text": [
      "      ┌───┐     ┌─┐   \n",
      "   a: ┤ H ├──■──┤M├───\n",
      "      └───┘┌─┴─┐└╥┘┌─┐\n",
      "   b: ─────┤ X ├─╫─┤M├\n",
      "           └───┘ ║ └╥┘\n",
      "ac: 1/═══════════╩══╬═\n",
      "                 0  ║ \n",
      "bc: 1/══════════════╩═\n",
      "                    0 \n",
      "{'0 0': 4938, '1 1': 5062}\n",
      "      ┌───┐     ┌─┐   \n",
      "   a: ┤ H ├──■──┤M├───\n",
      "      └───┘┌─┴─┐└╥┘┌─┐\n",
      "   b: ─────┤ X ├─╫─┤M├\n",
      "           └───┘ ║ └╥┘\n",
      "ac: 1/═══════════╩══╬═\n",
      "                 0  ║ \n",
      "bc: 1/══════════════╩═\n",
      "                    0 \n"
     ]
    },
    {
     "data": {
      "image/png": "[encoded data removed]",
      "text/plain": [
       "<Figure size 640x480 with 1 Axes>"
      ]
     },
     "execution_count": 6,
     "metadata": {},
     "output_type": "execute_result"
    }
   ],
   "source": [
    "from qiskit import QuantumCircuit, QuantumRegister, ClassicalRegister\n",
    "import math\n",
    "from qiskit_aer import AerSimulator\n",
    "from qiskit.visualization import plot_histogram\n",
    "## Uncomment the next line to see diagrams when running in a notebook\n",
    "#%matplotlib inline\n",
    "\n",
    "## Example 3-2: Entangled Qubits\n",
    "# Set up the program\n",
    "a = QuantumRegister(1, name='a')\n",
    "b = QuantumRegister(1, name='b')\n",
    "a_c = ClassicalRegister(1, name='ac')\n",
    "b_c = ClassicalRegister(1, name='bc')\n",
    "qc = QuantumCircuit(a, b, a_c, b_c)\n",
    "\n",
    "qc.h(a)              # put a into a superposition of 0 and 1\n",
    "qc.cx(a, b)        # entangle a and b\n",
    "qc.measure(a, a_c)\n",
    "qc.measure(b, b_c)\n",
    "\n",
    "print(qc)\n",
    "\n",
    "# Choose the qasm_simulator backend\n",
    "simulator = AerSimulator(method='statevector')\n",
    "\n",
    "# Simulate the circuit\n",
    "job = simulator.run(qc, shots=10000)\n",
    "\n",
    "# Get the result\n",
    "result = job.result()\n",
    "\n",
    "# Print the counts\n",
    "print(result.get_counts(qc))\n",
    "\n",
    "# Visualize the circuit\n",
    "print(qc)\n",
    "#qc.draw(output='mpl').show()\n",
    "\n",
    "# Visualize the measurement outcomes\n",
    "plot_histogram(result.get_counts(qc))"
   ]
  },
  {
   "cell_type": "code",
   "execution_count": null,
   "id": "c06ce125-069f-4dc7-a10a-6ae0da95e8f2",
   "metadata": {},
   "outputs": [],
   "source": []
  }
 ],
 "metadata": {
  "kernelspec": {
   "display_name": "MSE802",
   "language": "python",
   "name": "python3"
  },
  "language_info": {
   "codemirror_mode": {
    "name": "ipython",
    "version": 3
   },
   "file_extension": ".py",
   "mimetype": "text/x-python",
   "name": "python",
   "nbconvert_exporter": "python",
   "pygments_lexer": "ipython3",
   "version": "3.11.11"
  }
 },
 "nbformat": 4,
 "nbformat_minor": 5
}
